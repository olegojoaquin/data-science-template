{
 "cells": [
  {
   "cell_type": "markdown",
   "id": "3b621c49-f7be-4279-8f5e-d21cf14b909c",
   "metadata": {},
   "source": [
    "# Load dotenv example"
   ]
  },
  {
   "cell_type": "code",
   "execution_count": 1,
   "id": "222e8674-4499-4d95-ad5c-c09867f4d7db",
   "metadata": {},
   "outputs": [],
   "source": [
    "import os\n",
    "from dotenv import load_dotenv"
   ]
  },
  {
   "cell_type": "code",
   "execution_count": 2,
   "id": "f26e7bc2-7f4a-4ea4-8dd2-a7e2f9f7d9c6",
   "metadata": {},
   "outputs": [
    {
     "data": {
      "text/plain": [
       "True"
      ]
     },
     "execution_count": 2,
     "metadata": {},
     "output_type": "execute_result"
    }
   ],
   "source": [
    "load_dotenv(\"../../.env\", override=True)"
   ]
  },
  {
   "cell_type": "code",
   "execution_count": 3,
   "id": "26ce9467-aa7d-4220-8f6d-779c760d80f0",
   "metadata": {},
   "outputs": [
    {
     "data": {
      "text/plain": [
       "'OPENAI-API-KEY-EXAMPLE'"
      ]
     },
     "execution_count": 3,
     "metadata": {},
     "output_type": "execute_result"
    }
   ],
   "source": [
    "os.environ.get(\"OPENAI_API_KEY\")"
   ]
  },
  {
   "cell_type": "markdown",
   "id": "0f05ab9c-f1e5-44b4-b542-f31e2f130875",
   "metadata": {},
   "source": [
    "**Success!**"
   ]
  },
  {
   "cell_type": "code",
   "execution_count": null,
   "id": "d8b66cfa-63bc-4d20-803d-561fb8ab8b63",
   "metadata": {},
   "outputs": [],
   "source": []
  }
 ],
 "metadata": {
  "kernelspec": {
   "display_name": "data-studio-ds-template",
   "language": "python",
   "name": "data-studio-ds-template"
  },
  "language_info": {
   "codemirror_mode": {
    "name": "ipython",
    "version": 3
   },
   "file_extension": ".py",
   "mimetype": "text/x-python",
   "name": "python",
   "nbconvert_exporter": "python",
   "pygments_lexer": "ipython3",
   "version": "3.10.13"
  }
 },
 "nbformat": 4,
 "nbformat_minor": 5
}
